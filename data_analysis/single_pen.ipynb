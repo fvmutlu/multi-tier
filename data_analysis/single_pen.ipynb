{
 "cells": [
  {
   "cell_type": "code",
   "execution_count": null,
   "metadata": {},
   "outputs": [],
   "source": [
    "import pandas as pd\n",
    "import numpy as np\n",
    "import matplotlib.pyplot as plt\n",
    "from data_analysis.helpers import *"
   ]
  },
  {
   "cell_type": "code",
   "execution_count": null,
   "metadata": {},
   "outputs": [],
   "source": [
    "db = getJsonDb(\"./sim_outputs/svip_pen_abilene_db.json\")\n",
    "param_filters = [\n",
    "    (\"cache_capacities\", (5,), None),\n",
    "    (\"cache_read_rates\", (50,), None),\n",
    "    (\"cache_write_rates\", (50,), None),\n",
    "    (\"request_generator_seed\", 1, None),\n",
    "    (\"request_rate\", 10, None)\n",
    "]\n",
    "param_list = filterParamList(\"./sim_configs/test_config.json\", param_filters)\n",
    "param_hashes = getParamHashList(param_list)\n",
    "res = getDataFieldSumsAcrossEntries(\"abilene\", db, param_hashes, \"delay\")\n",
    "pen_weights = [0, 4, 10, 20, 30, 40, 50, 60, 70, 80, 90, 100]\n",
    "plt.plot(pen_weights, res)\n",
    "plt.xlabel('Pen Weights')\n",
    "plt.ylabel('Delay')\n",
    "plt.title('Res vs Pen Weights')\n",
    "plt.show()\n",
    "param_list[0]\n"
   ]
  },
  {
   "cell_type": "code",
   "execution_count": null,
   "metadata": {},
   "outputs": [],
   "source": [
    "res = getDataFieldSumsAcrossEntries(\"abilene\", db, param_hashes, \"cache_replacements\")\n",
    "res = [x[0] for x in res]\n",
    "plt.plot(pen_weights, res)\n",
    "plt.xlabel('Pen Weights')\n",
    "plt.ylabel('Replacements')\n",
    "plt.title('Res vs Pen Weights')\n",
    "plt.show()"
   ]
  },
  {
   "cell_type": "code",
   "execution_count": null,
   "metadata": {},
   "outputs": [],
   "source": [
    "db = getJsonDb(\"./sim_outputs/svip_penalty_abilene_db.json\")\n",
    "param_filters = [\n",
    "    (\"cache_capacities\", (5,), None),\n",
    "    (\"cache_read_rates\", (50,), None),\n",
    "    (\"cache_write_rates\", (50,), None),\n",
    "    (\"request_rate\", 10, None)\n",
    "]\n",
    "param_list = filterParamList(\"./sim_configs/test_config.json\", param_filters)\n",
    "avgDataFieldSumsAcrossSeeds(\"abilene\", db, param_list, \"delay\")"
   ]
  }
 ],
 "metadata": {
  "kernelspec": {
   "display_name": ".venv",
   "language": "python",
   "name": "python3"
  },
  "language_info": {
   "codemirror_mode": {
    "name": "ipython",
    "version": 3
   },
   "file_extension": ".py",
   "mimetype": "text/x-python",
   "name": "python",
   "nbconvert_exporter": "python",
   "pygments_lexer": "ipython3",
   "version": "3.10.12"
  }
 },
 "nbformat": 4,
 "nbformat_minor": 2
}
