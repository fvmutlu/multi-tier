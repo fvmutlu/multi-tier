{
 "cells": [
  {
   "cell_type": "code",
   "execution_count": 1,
   "metadata": {},
   "outputs": [],
   "source": [
    "import numpy as np\n",
    "import matplotlib.pyplot as plt\n",
    "import os, sys\n",
    "parent_dir = os.path.abspath('..')\n",
    "if parent_dir not in sys.path:\n",
    "    sys.path.append(parent_dir)\n",
    "from data_analysis.helpers import *"
   ]
  },
  {
   "cell_type": "code",
   "execution_count": 38,
   "metadata": {},
   "outputs": [],
   "source": [
    "line_styles = {\n",
    "        \"none\": \"C7\",\n",
    "        \"vip\": \"r^\",\n",
    "        \"vipsbw\": \"b^\",\n",
    "        \"vip2\": \"rv\",\n",
    "        \"vipsbw2\": \"bv\",\n",
    "        \"mvip\": \"rv\",\n",
    "        \"palfu\": \"ks\",\n",
    "        \"pawlfu\": \"k*\",\n",
    "        \"lfu\": \"ks\",\n",
    "        \"wlfu\": \"k*\",\n",
    "        \"lru\": \"gx\",\n",
    "        \"fifo\": \"md\",\n",
    "        \"unif\": \"yo\",\n",
    "    }\n",
    "dashes = [\"-\", \"--\", \":\"]\n",
    "\n",
    "def plotter(\n",
    "    param_list,\n",
    "    filters,\n",
    "    label,\n",
    "    test_config,\n",
    "    topology,\n",
    "    db,\n",
    "    metric,\n",
    "    ax,\n",
    "):\n",
    "    param_list = filterParamList(param_list, filters)\n",
    "    res = getDataFieldSumAvgsAcrossSeeds(\n",
    "        topology,\n",
    "        db,\n",
    "        param_list,\n",
    "        test_config[\"source_map_seed\"],\n",
    "        test_config[\"request_generator_seed\"],\n",
    "        metric,\n",
    "    )\n",
    "    if isinstance(res[0], list):\n",
    "        assert len(res) == 1\n",
    "        res = res[0]\n",
    "    if metric in [\"cache_hits\",\"cache_replacements\"]:\n",
    "        ax.bar(label, res[0])\n",
    "        ax.bar(label, res[1], bottom=res[0])\n",
    "    else:\n",
    "        ax.bar(label, res)"
   ]
  },
  {
   "cell_type": "code",
   "execution_count": 42,
   "metadata": {},
   "outputs": [
    {
     "data": {
      "image/png": "[encoded data removed]",
      "text/plain": [
       "<Figure size 640x480 with 1 Axes>"
      ]
     },
     "metadata": {},
     "output_type": "display_data"
    }
   ],
   "source": [
    "experiment_name = \"some\"\n",
    "topology = \"abilene\"\n",
    "config_path = \"../sim_configs/\" + experiment_name + \"_config.json\"\n",
    "test_config = getTestConfig(config_path)\n",
    "db_path = \"../sim_outputs/\" + experiment_name + \"_\" + topology + \"_db.json\"\n",
    "db = getJsonDb(db_path)\n",
    "\n",
    "request_dist_param = 0.75\n",
    "request_rate = 15\n",
    "request_dist_type = \"zipf\"\n",
    "cache_capacities = [(),(5,25)]\n",
    "fwd_pol = [\"lrt\", \"vip\"]\n",
    "case_filters = [\n",
    "    (\"cache_capacities\", cache_capacities, None),\n",
    "    #(\"fwd_pol\", fwd_pol, None),\n",
    "    #(\"cache_read_rates\", [(25,), (25, 10)], None),\n",
    "    #(\"request_dist_param\", request_dist_param, None),\n",
    "    #(\"request_dist_type\", request_dist_type, None),\n",
    "    #(\"request_rate\", request_rate, None),\n",
    "]\n",
    "metric=\"delay\"\n",
    "param_list = simConfigToParamSets(test_config)\n",
    "param_list = filterParamList(param_list, case_filters)\n",
    "fig, ax = plt.subplots()\n",
    "\n",
    "gen = (cache_pol for cache_pol in test_config[\"cache_pol\"])\n",
    "for cache_pol in gen:\n",
    "    filters = [\n",
    "        (\"cache_pol\", cache_pol, None),\n",
    "    ]\n",
    "    plotter(param_list, filters, cache_pol, test_config, topology, db, metric, ax)\n",
    "\n",
    "plt.show()"
   ]
  }
 ],
 "metadata": {
  "kernelspec": {
   "display_name": "Python 3",
   "language": "python",
   "name": "python3"
  },
  "language_info": {
   "codemirror_mode": {
    "name": "ipython",
    "version": 3
   },
   "file_extension": ".py",
   "mimetype": "text/x-python",
   "name": "python",
   "nbconvert_exporter": "python",
   "pygments_lexer": "ipython3",
   "version": "3.10.12"
  }
 },
 "nbformat": 4,
 "nbformat_minor": 2
}
