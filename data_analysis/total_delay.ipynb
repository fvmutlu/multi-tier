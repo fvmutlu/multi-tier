{
 "cells": [
  {
   "cell_type": "code",
   "execution_count": null,
   "metadata": {},
   "outputs": [],
   "source": [
    "import pandas as pd\n",
    "import numpy as np"
   ]
  },
  {
   "cell_type": "code",
   "execution_count": null,
   "metadata": {},
   "outputs": [],
   "source": [
    "df = pd.read_json('/home/volkan/Repos/multi-tier/sim_outputs/sample_abilene_db.json')\n",
    "column_dfs = [item[1] for item in df.items()]\n",
    "\n",
    "def totalDelay(c):\n",
    "    total_delay = 0\n",
    "    for key in range(11):\n",
    "        total_delay += column_dfs[c]['data'][str(key)]['delay']\n",
    "    print(column_dfs[c]['parameters']['cache_pol'], column_dfs[c]['parameters']['fwd_pol'])    \n",
    "    print(total_delay)\n",
    "\n",
    "totalDelay(0)\n",
    "totalDelay(1)\n",
    "totalDelay(2)\n"
   ]
  },
  {
   "cell_type": "code",
   "execution_count": null,
   "metadata": {},
   "outputs": [],
   "source": [
    "df = pd.read_json('/home/volkan/Repos/multi-tier/sim_outputs/2000obj_abilene_db.json')\n",
    "column_dfs = [item[1] for item in df.items()]\n",
    "\n",
    "def totalDelay(c):\n",
    "    total_delay = 0\n",
    "    for key in range(11):\n",
    "        total_delay += column_dfs[c]['data'][str(key)]['delay']\n",
    "    print(column_dfs[c]['parameters']['cache_pol'], column_dfs[c]['parameters']['fwd_pol'])    \n",
    "    print(total_delay)\n",
    "\n",
    "totalDelay(0)\n",
    "totalDelay(1)\n",
    "totalDelay(2)"
   ]
  }
 ],
 "metadata": {
  "kernelspec": {
   "display_name": ".venv",
   "language": "python",
   "name": "python3"
  },
  "language_info": {
   "codemirror_mode": {
    "name": "ipython",
    "version": 3
   },
   "file_extension": ".py",
   "mimetype": "text/x-python",
   "name": "python",
   "nbconvert_exporter": "python",
   "pygments_lexer": "ipython3",
   "version": "3.10.12"
  }
 },
 "nbformat": 4,
 "nbformat_minor": 2
}
