{
 "cells": [
  {
   "cell_type": "code",
   "execution_count": null,
   "metadata": {},
   "outputs": [],
   "source": [
    "import pandas as pd\n",
    "import numpy as np\n",
    "from simulator.helpers import SimulationParameters\n",
    "from data_analysis.helpers import *\n",
    "\n",
    "\n",
    "sp = SimulationParameters(\n",
    "    fwd_pol=\"lrt\",\n",
    "    cache_pol=\"lfu\",\n",
    "    num_objects=1000,\n",
    "    source_read_rate=1000,\n",
    "    source_map_seed=1,\n",
    "    request_generator_seed=1,\n",
    "    stop_time=100,\n",
    "    request_rate=10,\n",
    "    request_dist_param=0.75,\n",
    "    request_dist_type=\"zipf\",\n",
    "    pen_weight=0,\n",
    "    vip_inc=1,\n",
    "    vip_slot_len=1,\n",
    "    vip_win_size=100,\n",
    "    cache_capacities=(5, 100),\n",
    "    cache_read_rates=(20, 10),\n",
    "    cache_write_rates=(20, 10),\n",
    "    cache_read_pens=(4, 2),\n",
    "    cache_write_pens=(2, 1),\n",
    ")"
   ]
  }
 ],
 "metadata": {
  "kernelspec": {
   "display_name": ".venv",
   "language": "python",
   "name": "python3"
  },
  "language_info": {
   "codemirror_mode": {
    "name": "ipython",
    "version": 3
   },
   "file_extension": ".py",
   "mimetype": "text/x-python",
   "name": "python",
   "nbconvert_exporter": "python",
   "pygments_lexer": "ipython3",
   "version": "3.10.12"
  }
 },
 "nbformat": 4,
 "nbformat_minor": 2
}
