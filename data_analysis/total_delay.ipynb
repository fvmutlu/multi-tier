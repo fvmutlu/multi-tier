{
 "cells": [
  {
   "cell_type": "code",
   "execution_count": 1,
   "metadata": {},
   "outputs": [],
   "source": [
    "import pandas as pd\n",
    "import numpy as np\n",
    "import matplotlib.pyplot as plt\n",
    "from simulator.helpers import SimulationParameters\n",
    "from data_analysis.helpers import *"
   ]
  },
  {
   "cell_type": "code",
   "execution_count": 2,
   "metadata": {},
   "outputs": [
    {
     "data": {
      "text/plain": [
       "[fwd_pol=lrt,cache_pol=lru,num_objects=1000,source_read_rate=1000,source_map_seed=1,request_generator_seed=1,stop_time=100,request_rate=20,request_dist_param=0.75,request_dist_type=zipf,pen_weight=0,vip_inc=1,vip_slot_len=1,vip_win_size=100,cache_capacities=(5, 10),cache_read_rates=(50, 10),cache_write_rates=(50, 10),cache_read_pens=(2, 1),cache_write_pens=(4, 2),\n",
       " fwd_pol=lrt,cache_pol=lru,num_objects=1000,source_read_rate=1000,source_map_seed=1,request_generator_seed=1,stop_time=100,request_rate=20,request_dist_param=0.75,request_dist_type=zipf,pen_weight=0,vip_inc=1,vip_slot_len=1,vip_win_size=100,cache_capacities=(5, 20),cache_read_rates=(50, 10),cache_write_rates=(50, 10),cache_read_pens=(2, 1),cache_write_pens=(4, 2),\n",
       " fwd_pol=lrt,cache_pol=lru,num_objects=1000,source_read_rate=1000,source_map_seed=1,request_generator_seed=1,stop_time=100,request_rate=20,request_dist_param=0.75,request_dist_type=zipf,pen_weight=0,vip_inc=1,vip_slot_len=1,vip_win_size=100,cache_capacities=(5, 30),cache_read_rates=(50, 10),cache_write_rates=(50, 10),cache_read_pens=(2, 1),cache_write_pens=(4, 2),\n",
       " fwd_pol=lrt,cache_pol=lru,num_objects=1000,source_read_rate=1000,source_map_seed=1,request_generator_seed=1,stop_time=100,request_rate=20,request_dist_param=0.75,request_dist_type=zipf,pen_weight=0,vip_inc=1,vip_slot_len=1,vip_win_size=100,cache_capacities=(5, 40),cache_read_rates=(50, 10),cache_write_rates=(50, 10),cache_read_pens=(2, 1),cache_write_pens=(4, 2),\n",
       " fwd_pol=lrt,cache_pol=lru,num_objects=1000,source_read_rate=1000,source_map_seed=1,request_generator_seed=1,stop_time=100,request_rate=20,request_dist_param=0.75,request_dist_type=zipf,pen_weight=0,vip_inc=1,vip_slot_len=1,vip_win_size=100,cache_capacities=(5, 50),cache_read_rates=(50, 10),cache_write_rates=(50, 10),cache_read_pens=(2, 1),cache_write_pens=(4, 2),\n",
       " fwd_pol=lrt,cache_pol=lru,num_objects=1000,source_read_rate=1000,source_map_seed=1,request_generator_seed=1,stop_time=100,request_rate=20,request_dist_param=0.75,request_dist_type=zipf,pen_weight=0,vip_inc=1,vip_slot_len=1,vip_win_size=100,cache_capacities=(5, 60),cache_read_rates=(50, 10),cache_write_rates=(50, 10),cache_read_pens=(2, 1),cache_write_pens=(4, 2),\n",
       " fwd_pol=lrt,cache_pol=lru,num_objects=1000,source_read_rate=1000,source_map_seed=1,request_generator_seed=1,stop_time=100,request_rate=20,request_dist_param=0.75,request_dist_type=zipf,pen_weight=0,vip_inc=1,vip_slot_len=1,vip_win_size=100,cache_capacities=(5, 70),cache_read_rates=(50, 10),cache_write_rates=(50, 10),cache_read_pens=(2, 1),cache_write_pens=(4, 2),\n",
       " fwd_pol=lrt,cache_pol=lru,num_objects=1000,source_read_rate=1000,source_map_seed=1,request_generator_seed=1,stop_time=100,request_rate=20,request_dist_param=0.75,request_dist_type=zipf,pen_weight=0,vip_inc=1,vip_slot_len=1,vip_win_size=100,cache_capacities=(5, 80),cache_read_rates=(50, 10),cache_write_rates=(50, 10),cache_read_pens=(2, 1),cache_write_pens=(4, 2),\n",
       " fwd_pol=lrt,cache_pol=lru,num_objects=1000,source_read_rate=1000,source_map_seed=1,request_generator_seed=1,stop_time=100,request_rate=20,request_dist_param=0.75,request_dist_type=zipf,pen_weight=0,vip_inc=1,vip_slot_len=1,vip_win_size=100,cache_capacities=(5, 90),cache_read_rates=(50, 10),cache_write_rates=(50, 10),cache_read_pens=(2, 1),cache_write_pens=(4, 2),\n",
       " fwd_pol=lrt,cache_pol=lru,num_objects=1000,source_read_rate=1000,source_map_seed=1,request_generator_seed=1,stop_time=100,request_rate=20,request_dist_param=0.75,request_dist_type=zipf,pen_weight=0,vip_inc=1,vip_slot_len=1,vip_win_size=100,cache_capacities=(5, 100),cache_read_rates=(50, 10),cache_write_rates=(50, 10),cache_read_pens=(2, 1),cache_write_pens=(4, 2),\n",
       " fwd_pol=lrt,cache_pol=lru,num_objects=1000,source_read_rate=1000,source_map_seed=1,request_generator_seed=1,stop_time=100,request_rate=20,request_dist_param=0.75,request_dist_type=zipf,pen_weight=0,vip_inc=1,vip_slot_len=1,vip_win_size=100,cache_capacities=(5, 110),cache_read_rates=(50, 10),cache_write_rates=(50, 10),cache_read_pens=(2, 1),cache_write_pens=(4, 2),\n",
       " fwd_pol=lrt,cache_pol=lru,num_objects=1000,source_read_rate=1000,source_map_seed=1,request_generator_seed=1,stop_time=100,request_rate=20,request_dist_param=0.75,request_dist_type=zipf,pen_weight=0,vip_inc=1,vip_slot_len=1,vip_win_size=100,cache_capacities=(5, 120),cache_read_rates=(50, 10),cache_write_rates=(50, 10),cache_read_pens=(2, 1),cache_write_pens=(4, 2),\n",
       " fwd_pol=lrt,cache_pol=lru,num_objects=1000,source_read_rate=1000,source_map_seed=1,request_generator_seed=1,stop_time=100,request_rate=20,request_dist_param=0.75,request_dist_type=zipf,pen_weight=0,vip_inc=1,vip_slot_len=1,vip_win_size=100,cache_capacities=(5, 130),cache_read_rates=(50, 10),cache_write_rates=(50, 10),cache_read_pens=(2, 1),cache_write_pens=(4, 2),\n",
       " fwd_pol=lrt,cache_pol=lru,num_objects=1000,source_read_rate=1000,source_map_seed=1,request_generator_seed=1,stop_time=100,request_rate=20,request_dist_param=0.75,request_dist_type=zipf,pen_weight=0,vip_inc=1,vip_slot_len=1,vip_win_size=100,cache_capacities=(5, 140),cache_read_rates=(50, 10),cache_write_rates=(50, 10),cache_read_pens=(2, 1),cache_write_pens=(4, 2),\n",
       " fwd_pol=lrt,cache_pol=lru,num_objects=1000,source_read_rate=1000,source_map_seed=1,request_generator_seed=1,stop_time=100,request_rate=20,request_dist_param=0.75,request_dist_type=zipf,pen_weight=0,vip_inc=1,vip_slot_len=1,vip_win_size=100,cache_capacities=(5, 150),cache_read_rates=(50, 10),cache_write_rates=(50, 10),cache_read_pens=(2, 1),cache_write_pens=(4, 2)]"
      ]
     },
     "execution_count": 2,
     "metadata": {},
     "output_type": "execute_result"
    }
   ],
   "source": [
    "filterParamList(\"./sim_configs/lru_config.json\", \"cache_capacities\", 2, len)"
   ]
  }
 ],
 "metadata": {
  "kernelspec": {
   "display_name": ".venv",
   "language": "python",
   "name": "python3"
  },
  "language_info": {
   "codemirror_mode": {
    "name": "ipython",
    "version": 3
   },
   "file_extension": ".py",
   "mimetype": "text/x-python",
   "name": "python",
   "nbconvert_exporter": "python",
   "pygments_lexer": "ipython3",
   "version": "3.10.12"
  }
 },
 "nbformat": 4,
 "nbformat_minor": 2
}
