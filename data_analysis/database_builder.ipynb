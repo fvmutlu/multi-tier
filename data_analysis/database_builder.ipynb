{
 "cells": [
  {
   "cell_type": "code",
   "execution_count": 1,
   "metadata": {},
   "outputs": [],
   "source": [
    "import numpy as np\n",
    "import matplotlib.pyplot as plt\n",
    "import os, sys\n",
    "import json\n",
    "parent_dir = os.path.abspath('..')\n",
    "if parent_dir not in sys.path:\n",
    "    sys.path.append(parent_dir)\n",
    "from data_analysis.helpers import *"
   ]
  },
  {
   "cell_type": "code",
   "execution_count": 5,
   "metadata": {},
   "outputs": [],
   "source": [
    "new_data = {}\n",
    "########################################################\n",
    "########################################################\n",
    "config_path = \"../sim_configs/mt_req_vip_config.json\"\n",
    "test_config = getTestConfig(config_path)\n",
    "\n",
    "filters = [\n",
    "    (\"cache_capacities\",(5,100),None),\n",
    "    (\"cache_pol\",\"mvip\",None)\n",
    "]\n",
    "param_list = simConfigToParamSets(test_config)\n",
    "param_list = filterParamList(param_list, filters)\n",
    "param_hash_list = getParamHashList(param_list)\n",
    "\n",
    "with open('../sim_outputs/mt_req_vip_grid_db.json', 'r') as file:\n",
    "    data = json.load(file)\n",
    "\n",
    "filtered_data = [(key,data[str(key)]) for key in param_hash_list]\n",
    "########################################################\n",
    "########################################################\n",
    "config_path = \"../sim_configs/mt_req_baselines_config.json\"\n",
    "test_config = getTestConfig(config_path)\n",
    "\n",
    "filters = [\n",
    "    (\"cache_capacities\",(5,50),None),\n",
    "    (\"cache_pol\",\"lfu\",None)\n",
    "]\n",
    "param_list = simConfigToParamSets(test_config)\n",
    "param_list = filterParamList(param_list, filters)\n",
    "param_hash_list = getParamHashList(param_list)\n",
    "\n",
    "with open('../sim_outputs/mt_req_baselines_grid_db.json', 'r') as file:\n",
    "    data = json.load(file)\n",
    "\n",
    "filtered_data.extend([(key,data[str(key)]) for key in param_hash_list])\n",
    "########################################################\n",
    "########################################################\n",
    "config_path = \"../sim_configs/mt_req_baselines_config.json\"\n",
    "test_config = getTestConfig(config_path)\n",
    "\n",
    "filters = [\n",
    "    (\"cache_capacities\",(5,25),None),\n",
    "    (\"cache_pol\",[\"lru\",\"unif\",\"fifo\"],None)\n",
    "]\n",
    "param_list = simConfigToParamSets(test_config)\n",
    "param_list = filterParamList(param_list, filters)\n",
    "param_hash_list = getParamHashList(param_list)\n",
    "\n",
    "with open('../sim_outputs/mt_req_baselines_grid_db.json', 'r') as file:\n",
    "    data = json.load(file)\n",
    "\n",
    "filtered_data.extend([(key,data[str(key)]) for key in param_hash_list])\n",
    "########################################################\n",
    "########################################################"
   ]
  },
  {
   "cell_type": "code",
   "execution_count": 6,
   "metadata": {},
   "outputs": [],
   "source": [
    "for key, value in filtered_data:\n",
    "    new_data[key] = value\n",
    "\n",
    "with open('../sim_outputs/mt_req_grid_db.json', 'w') as file:\n",
    "    json.dump(new_data, file)"
   ]
  }
 ],
 "metadata": {
  "kernelspec": {
   "display_name": "Python 3",
   "language": "python",
   "name": "python3"
  },
  "language_info": {
   "codemirror_mode": {
    "name": "ipython",
    "version": 3
   },
   "file_extension": ".py",
   "mimetype": "text/x-python",
   "name": "python",
   "nbconvert_exporter": "python",
   "pygments_lexer": "ipython3",
   "version": "3.10.12"
  }
 },
 "nbformat": 4,
 "nbformat_minor": 2
}
