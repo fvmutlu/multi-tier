{
 "cells": [
  {
   "cell_type": "code",
   "execution_count": null,
   "metadata": {},
   "outputs": [],
   "source": [
    "import numpy as np\n",
    "import matplotlib.pyplot as plt\n",
    "import os, sys\n",
    "import json\n",
    "parent_dir = os.path.abspath('..')\n",
    "if parent_dir not in sys.path:\n",
    "    sys.path.append(parent_dir)\n",
    "from data_analysis.helpers import *"
   ]
  },
  {
   "cell_type": "code",
   "execution_count": 21,
   "metadata": {},
   "outputs": [],
   "source": [
    "config_path = \"../sim_configs/some_config.json\"\n",
    "test_config = getTestConfig(config_path)\n",
    "\n",
    "filters = [\n",
    "    (\"cache_capacities\",(5,100),None),\n",
    "    (\"cache_pol\",\"mvip\",None)\n",
    "]\n",
    "param_list = simConfigToParamSets(test_config)\n",
    "param_list = filterParamList(param_list, filters)\n",
    "param_hash_list = getParamHashList(param_list)\n",
    "\n",
    "# Load the data from some_abilene_db.json\n",
    "with open('../sim_outputs/some_abilene_db.json', 'r') as file:\n",
    "    data = json.load(file)\n",
    "\n",
    "# Filter the data based on param_hash_list\n",
    "filtered_data = [(key,data[str(key)]) for key in param_hash_list]"
   ]
  },
  {
   "cell_type": "code",
   "execution_count": 22,
   "metadata": {},
   "outputs": [],
   "source": [
    "config_path = \"../sim_configs/some_config.json\"\n",
    "test_config = getTestConfig(config_path)\n",
    "\n",
    "filters = [\n",
    "    (\"cache_capacities\",(5,50),None),\n",
    "    (\"cache_pol\",\"lfu\",None)\n",
    "]\n",
    "param_list = simConfigToParamSets(test_config)\n",
    "param_list = filterParamList(param_list, filters)\n",
    "param_hash_list = getParamHashList(param_list)\n",
    "\n",
    "# Filter the data based on param_hash_list\n",
    "filtered_data.extend([(key,data[str(key)]) for key in param_hash_list])\n",
    "new_data = {}\n",
    "for key, value in filtered_data:\n",
    "    new_data[key] = value\n",
    "\n",
    "# Write the filtered data into req_abilene_db.json\n",
    "with open('../sim_outputs/req_abilene_db.json', 'w') as file:\n",
    "    json.dump(new_data, file)"
   ]
  }
 ],
 "metadata": {
  "kernelspec": {
   "display_name": "Python 3",
   "language": "python",
   "name": "python3"
  },
  "language_info": {
   "codemirror_mode": {
    "name": "ipython",
    "version": 3
   },
   "file_extension": ".py",
   "mimetype": "text/x-python",
   "name": "python",
   "nbconvert_exporter": "python",
   "pygments_lexer": "ipython3",
   "version": "3.10.12"
  }
 },
 "nbformat": 4,
 "nbformat_minor": 2
}
